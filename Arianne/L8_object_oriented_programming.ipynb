{
 "cells": [
  {
   "cell_type": "markdown",
   "metadata": {},
   "source": [
    "# Lesson 8: Object oriented programming"
   ]
  },
  {
   "cell_type": "code",
   "execution_count": 2,
   "metadata": {},
   "outputs": [],
   "source": [
    "import numpy as np"
   ]
  },
  {
   "cell_type": "code",
   "execution_count": null,
   "metadata": {},
   "outputs": [],
   "source": []
  },
  {
   "cell_type": "code",
   "execution_count": 3,
   "metadata": {},
   "outputs": [],
   "source": [
    "class SuperHero:\n",
    "    pass"
   ]
  },
  {
   "cell_type": "code",
   "execution_count": 4,
   "metadata": {},
   "outputs": [],
   "source": [
    "obj = SuperHero()"
   ]
  },
  {
   "cell_type": "code",
   "execution_count": 8,
   "metadata": {},
   "outputs": [
    {
     "name": "stdout",
     "output_type": "stream",
     "text": [
      "Superman is a superhero\n",
      "Flash is also a superhero\n",
      "Superman has Fly as a superpower and is 15 years old\n",
      "Flash has Super Fast as a superpower and is 10 years old\n"
     ]
    }
   ],
   "source": [
    "class SuperHero:\n",
    "\n",
    "    # class attribute\n",
    "    species = \"superhero\"\n",
    "\n",
    "    # instance attribute\n",
    "    def __init__(self, name, superpower, age):\n",
    "        self.name = name\n",
    "        self.age = age\n",
    "        self.superpower = superpower\n",
    "\n",
    "# instantiate the SuperHero class\n",
    "flash = SuperHero(\"Flash\", \"Super Fast\", 10)\n",
    "superman = SuperHero(\"Superman\", \"Fly\", 15)\n",
    "\n",
    "# access the class attributes\n",
    "print(\"Superman is a {}\".format(superman.__class__.species))\n",
    "print(\"Flash is also a {}\".format(flash.__class__.species))\n",
    "\n",
    "# access the instance attributes\n",
    "print(\"{} has {} as a superpower and is {} years old\".format( superman.name, superman.superpower, superman.age))\n",
    "print(\"{} has {} as a superpower and is {} years old\".format( flash.name, flash.superpower, flash.age))"
   ]
  },
  {
   "cell_type": "code",
   "execution_count": 9,
   "metadata": {},
   "outputs": [
    {
     "name": "stdout",
     "output_type": "stream",
     "text": [
      "id(2) = 4385846656\n",
      "id(a) = 4385846656\n"
     ]
    }
   ],
   "source": [
    "a = 2\n",
    "# Output: id(2)= 10919424\n",
    "print('id(2) =', id(2))\n",
    "\n",
    "# Output: id(a) = 10919424\n",
    "print('id(a) =', id(a))"
   ]
  },
  {
   "cell_type": "code",
   "execution_count": null,
   "metadata": {},
   "outputs": [],
   "source": []
  },
  {
   "cell_type": "markdown",
   "metadata": {},
   "source": [
    "### Imperative programming"
   ]
  },
  {
   "cell_type": "code",
   "execution_count": 9,
   "metadata": {},
   "outputs": [
    {
     "name": "stdout",
     "output_type": "stream",
     "text": [
      "Item 1\n",
      "Item 2\n",
      "Item 3\n",
      "Item 4\n"
     ]
    }
   ],
   "source": [
    "our_list = [1,2,3,4]\n",
    "for item in our_list:\n",
    "    print(f'Item {item}')"
   ]
  },
  {
   "cell_type": "markdown",
   "metadata": {},
   "source": [
    "### Object oriented programming"
   ]
  },
  {
   "cell_type": "code",
   "execution_count": 10,
   "metadata": {},
   "outputs": [
    {
     "name": "stdout",
     "output_type": "stream",
     "text": [
      "Item 1\n",
      "Item 2\n",
      "Item 3\n",
      "Item 4\n"
     ]
    }
   ],
   "source": [
    "class PrintList:\n",
    "    \n",
    "    def __init__(self,numberlist):\n",
    "        self.numberlist = numberlist\n",
    "        \n",
    "    def print_list(self):\n",
    "        for item in self.numberlist:\n",
    "            print(f'Item {item}')\n",
    "        \n",
    "A = PrintList([1,2,3,4])\n",
    "A.print_list()"
   ]
  },
  {
   "cell_type": "code",
   "execution_count": null,
   "metadata": {},
   "outputs": [],
   "source": []
  }
 ],
 "metadata": {
  "kernelspec": {
   "display_name": "Python 3",
   "language": "python",
   "name": "python3"
  },
  "language_info": {
   "codemirror_mode": {
    "name": "ipython",
    "version": 3
   },
   "file_extension": ".py",
   "mimetype": "text/x-python",
   "name": "python",
   "nbconvert_exporter": "python",
   "pygments_lexer": "ipython3",
   "version": "3.6.8"
  },
  "toc": {
   "base_numbering": 1,
   "nav_menu": {},
   "number_sections": false,
   "sideBar": false,
   "skip_h1_title": false,
   "title_cell": "Table of Contents",
   "title_sidebar": "Contents",
   "toc_cell": false,
   "toc_position": {},
   "toc_section_display": false,
   "toc_window_display": false
  }
 },
 "nbformat": 4,
 "nbformat_minor": 4
}
