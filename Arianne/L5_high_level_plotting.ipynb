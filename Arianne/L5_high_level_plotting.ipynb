{
 "cells": [
  {
   "cell_type": "markdown",
   "metadata": {},
   "source": [
    "# Lesson 5: High level plotting"
   ]
  },
  {
   "cell_type": "code",
   "execution_count": null,
   "metadata": {},
   "outputs": [],
   "source": [
    "import numpy as np\n",
    "import pandas as pd\n",
    "\n",
    "import bokeh_catplot\n",
    "\n",
    "import bokeh.plotting\n",
    "import bokeh.io\n",
    "\n",
    "bokeh.io.output_notebook()"
   ]
  },
  {
   "cell_type": "markdown",
   "metadata": {},
   "source": [
    "<hr/>\n",
    "\n",
    "In this lesson, do some plotting with a high-level package [Bokeh-catplot](https://github.com/justinbois/bokeh-catplot). If you haven't already, you should install it.\n",
    "\n",
    "    pip install --upgrade bokeh-catplot\n",
    "\n",
    "For this lesson, we will use [the frog tongue data set from Kleinteich and Gorb](https://doi.org/10.1038/srep05225) that we used in lesson 3. Let's get the data frame loaded in so we can be on our way."
   ]
  },
  {
   "cell_type": "code",
   "execution_count": null,
   "metadata": {},
   "outputs": [],
   "source": [
    "df = pd.read_csv('Dataset/frog_tongue_adhesion.csv', comment='#')\n",
    "\n",
    "# Have a look so we remember\n",
    "df.head()"
   ]
  },
  {
   "cell_type": "markdown",
   "metadata": {},
   "source": [
    "## High level plotting and rendering with Bokeh\n",
    "\n",
    "[HoloViews](https://holoviews.org/) is an excellent high-level plotting package that can use Bokeh to render plots. In my view, it is one of the best high-level plotting languaes in the Python plotting landscape. We will work with HoloViews in a future lesson, but in this lesson, we will do our high-level plotting using a package I wrote called [Bokeh-catplot](https://github.com/justinbois/bokeh-catplot).\n",
    "\n",
    "Why are we using this package and not HoloViews? Bokeh-catplot exists because HoloViews lacks some important functionality. (More on these very important plot types in a moment; don't worry if you don't know what they are just yet.)\n",
    "\n",
    "- It does not natively make ECDFs.\n",
    "- Its definition of a box plot is non-canonical ([my fault](https://github.com/pyviz/holoviews/pull/1926), but will soon be [fixed](https://github.com/pyviz/holoviews/pull/3755)).\n",
    "- It does not (easily, or as far as I can tell) enable an axis with more than one categorical variable for strip plots (though it does for box plots).\n",
    "- It has a [bug when making horizontal strip plots](https://github.com/pyviz/holoviews/issues/3748).\n",
    "\n",
    "There are all relatively minor fixes for HoloViews, which will likely have this functionality in the near future.\n",
    "\n",
    "Nonetheless, ECDFs and horizontal strip plots are important visualizations and I advocate using them often, and Bokeh-catplot provides a high-level way to render them using Bokeh."
   ]
  },
  {
   "cell_type": "markdown",
   "metadata": {},
   "source": [
    "## Plots with categorical variables\n",
    "\n",
    "Let us first consider the different kinds of data we may encounter as we think about constructing a plot.\n",
    "\n",
    "- **Quantitative** data may have continuously varying (and therefore ordered) values.\n",
    "- **Categorical** data has discrete, unordered values that a variable can take.\n",
    "- **Ordinal** data has discrete, ordered values. Integers are a classic example.\n",
    "- **Temporal** data refers to time, which can be represented as dates.\n",
    "\n",
    "In practice, ordinal data can be cast as quantitative or treated as categorical with an ordering enforced on the categories (e.g., categorical data `[1, 2, 3]` becomes `['1', '2', '3']`.). Temporal data can also be cast as quantitative, (e.g., second from the start time). We will therefore focus out attention on quantitative and categorical data.\n",
    "\n",
    "When we made scatter plots in the previous lesson, both types of data were quantitative. We did actually incorporate categorical information in the form of colors of the glyph (insomniacs and normal sleepers being colored differently) and in tooltips. \n",
    "\n",
    "But what if we wanted a single type of measurement, say impact force, for each frog. Here, we have the quantitative impact force data and the categorical frog ID data. One of our axes is now categorical."
   ]
  },
  {
   "cell_type": "markdown",
   "metadata": {},
   "source": [
    "## Bar graph"
   ]
  },
  {
   "cell_type": "markdown",
   "metadata": {},
   "source": [
    "To demonstrate how to set up a categorical axis with Bokeh, I will make a bar graph of the mean impact force for each of the four frogs. But before I even begin this, I will give you the following piece of advice: *Don't make bar graphs.* More on that in a moment.\n",
    "\n",
    "Before we do that, we need to compute the means from the inputted data frame."
   ]
  },
  {
   "cell_type": "code",
   "execution_count": null,
   "metadata": {},
   "outputs": [],
   "source": [
    "df_mean = df.groupby('ID')['impact force (mN)'].mean().reset_index()\n",
    "\n",
    "# Take a look\n",
    "df_mean"
   ]
  },
  {
   "cell_type": "markdown",
   "metadata": {},
   "source": [
    "To set up a categorical axis, you need to specify the `x_range` (or `y_range` if you want the y-axis to be categorical) as a list with the categories you want on the axis when you instantiate the figure. I will make a horizontal bar graph, so I will specify `y_range`. Also, when I instantiate this figure, because it is not very tall and I do not want the reset tool cut off, I will also explicitly set the tools I want in the toolbar."
   ]
  },
  {
   "cell_type": "code",
   "execution_count": null,
   "metadata": {},
   "outputs": [],
   "source": [
    "p = bokeh.plotting.figure(\n",
    "    height=200,\n",
    "    width=400,\n",
    "    x_axis_label='impact force (mN)',\n",
    "    y_range=df_mean['ID'].unique()[::-1],\n",
    "    tools='pan,wheel_zoom,save,reset'\n",
    ")"
   ]
  },
  {
   "cell_type": "markdown",
   "metadata": {},
   "source": [
    "Now that we have the figure, we can put the bars on. The `p.hbar()` method populates the figure with horizontal bar glyphs. The `right` kwarg says what column of the data source dictates how far to the right to show the bar, while the `height` kwarg says how think the bars are.\n",
    "\n",
    "I will also ensure the quantitative axis starts at zero and turn off the grid lines on the categorical axis, which is commonly done."
   ]
  },
  {
   "cell_type": "code",
   "execution_count": null,
   "metadata": {},
   "outputs": [],
   "source": [
    "p.hbar(\n",
    "    source=df_mean,\n",
    "    y='ID',\n",
    "    right='impact force (mN)',\n",
    "    height=0.6\n",
    ")\n",
    "\n",
    "# Turn off gridlines on categorical axis\n",
    "p.ygrid.grid_line_color = None\n",
    "\n",
    "# Start axes at origin on quantitative axis\n",
    "p.x_range.start = 0\n",
    "\n",
    "bokeh.io.show(p)"
   ]
  },
  {
   "cell_type": "markdown",
   "metadata": {},
   "source": [
    "We similarly make vertical bar graphs specifying `x_range` and using `p.vbar()`."
   ]
  },
  {
   "cell_type": "code",
   "execution_count": null,
   "metadata": {},
   "outputs": [],
   "source": [
    "p = bokeh.plotting.figure(\n",
    "    height=250,\n",
    "    width=250,\n",
    "    y_axis_label='impact force (mN)',\n",
    "    x_range=df_mean['ID'].unique(),\n",
    ")\n",
    "\n",
    "p.vbar(\n",
    "    source=df_mean,\n",
    "    x='ID',\n",
    "    top='impact force (mN)',\n",
    "    width=0.6\n",
    ")\n",
    "\n",
    "p.xgrid.grid_line_color = None\n",
    "p.y_range.start = 0\n",
    "\n",
    "bokeh.io.show(p)"
   ]
  },
  {
   "cell_type": "markdown",
   "metadata": {},
   "source": [
    "## Bokeh-catplot\n",
    "\n",
    "Generating the bar graphs was not too painful, even tough we used Bokeh, a low-level plotting library. We would like to make plots more directly. We do not want to have to explicitly pre-process the data, set up the categorical axis, etc. We would like to just provide a data set, say which column(s) is/are categorical and which is quantitative, and then just get our plot. As I mentioned before, Holoviews is excellent for this purpose, but we will use Bokeh-catplot as our high-level package for making plots.\n",
    "\n",
    "Bokeh-catplot generates plots from tidy data frames where one or more columns contains categorical data and the column of interest in the plot is quantitative.\n",
    "\n",
    "There are four types of plots that Bokeh-catplot can generate. As you will see, all four of these modes of plotting are meant to give a picture about how the quantitative measurements are *distributed* for each category.\n",
    "\n",
    "- **Plots with a categorical axis**\n",
    "    + Box plots: `bokeh_catplot.box()`\n",
    "    + Strip plots: `bokeh_catplot.strip()`\n",
    " \n",
    "    \n",
    "- **Plots without a categorical axis**\n",
    "    + Histograms: `bokeh_catplot.histogram()`\n",
    "    + [ECDFs](https://en.wikipedia.org/wiki/Empirical_distribution_function): `bokeh_catplot.ecdf()`\n",
    "    \n",
    "\n",
    "The first three arguments of each of these functions are necessary to build the plot. They are:\n",
    "\n",
    "- `data`: A tidy data frame\n",
    "- `cats`: A list of columns in the data frame that are to be considered as categorical variables in the plot. If `None`, a single box, strip, histogram, or ECDF is plotted.\n",
    "- `val`: The column of the data frame to be treated as the quantitative variable. \n",
    "\n",
    "With this in mind, we will put Bokeh-catplot to use on the frog data set."
   ]
  },
  {
   "cell_type": "markdown",
   "metadata": {},
   "source": [
    "## Box plots with Bokeh-catplot\n",
    "\n",
    "As I [discuss below](#Don't-make-bar-graphs), bar graphs are almost never a good choice for visualization. You distill all of the information in the data set down to one or two summary statistics, and then use giant glyphs to show them. As a start for improvement, you could distill the data set down to five or so summary statistics and show those graphically, as opposed to just one or two. \n",
    "\n",
    "Box plots provide such a summary. I will first make one using `bokeh_catplot.box()` and then describe how a box plot is interpreted."
   ]
  },
  {
   "cell_type": "code",
   "execution_count": null,
   "metadata": {},
   "outputs": [],
   "source": [
    "p = bokeh_catplot.box(\n",
    "    data=df,\n",
    "    cats='ID',\n",
    "    val='impact force (mN)'\n",
    ")\n",
    "\n",
    "bokeh.io.show(p)"
   ]
  },
  {
   "cell_type": "markdown",
   "metadata": {},
   "source": [
    "The line in the middle of each box is the median and the top and bottom of the box at the 75th and 25th percentiles, respectively. The distance between the 25th and 75th percentiles is called the **interquartile range**, or IQR. The whiskers of the box plot extend to the most extreme data point within 1.5 times the interquartile range. If any data points are more extreme than the end of the whisker, they are shown individually, and are often referred to as _outliers_.\n",
    "\n",
    "A box plot can use a useful visualization if you have many data points and it is difficult to plot them all. I rarely find that there are situations where all data cannot be plotted, either with strip plots of ECDFs, which we will cover in a moment, so I generally do not use box plots. Nonetheless, I do not find them too objectionable, as they effectively display important nonparametric summary statistics of your data set."
   ]
  },
  {
   "cell_type": "markdown",
   "metadata": {},
   "source": [
    "## Plot all your data\n",
    "\n",
    "Box plots summarize a data set with summary statistics, but what not plot all your data? You work hard to acquire them. You should show them all. This is a mantra to live by.\n",
    "\n",
    "<center><font color=\"dodgerblue\"><b>Plot all your data.</b></font></center><br/>\n",
    "\n",
    "Let's do that now."
   ]
  },
  {
   "cell_type": "markdown",
   "metadata": {},
   "source": [
    "## Strip plots\n",
    "\n",
    "A **strip plot** is like a scatter plot; it puts a glyph for every measured data point. The only different is that one of the axes is categorical. In this case, you are plotting all of your data."
   ]
  },
  {
   "cell_type": "code",
   "execution_count": null,
   "metadata": {},
   "outputs": [],
   "source": [
    "p = bokeh_catplot.strip(\n",
    "    data=df,\n",
    "    cats='ID',\n",
    "    val='impact force (mN)'\n",
    ")\n",
    "\n",
    "bokeh.io.show(p)"
   ]
  },
  {
   "cell_type": "markdown",
   "metadata": {},
   "source": [
    "This is a good plot to make since you are plotting all of your data, but it does have the problem that you cannot tell if multiple ticks overlap. Let's look at some alternatives."
   ]
  },
  {
   "cell_type": "markdown",
   "metadata": {},
   "source": [
    "## Histograms\n",
    "\n",
    "In plotting all of our data in a strip plot, we can roughly see how the data are distributed. There are more measurements where there are more glyphs."
   ]
  },
  {
   "cell_type": "code",
   "execution_count": null,
   "metadata": {},
   "outputs": [],
   "source": [
    "p = bokeh_catplot.histogram(\n",
    "    data=df,\n",
    "    cats='ID',\n",
    "    val='impact force (mN)'\n",
    ")\n",
    "\n",
    "bokeh.io.show(p)"
   ]
  },
  {
   "cell_type": "markdown",
   "metadata": {},
   "source": [
    "## ECDFs\n",
    "\n",
    "Histograms are typically used to display how data are distributed. As an example I will generate Normally distributed data and plot the histogram. (We will learn how to generate data like this when we study random number generation with NumPy in a future lesson. For not, this is for purposes of discussing plotting options.)"
   ]
  },
  {
   "cell_type": "code",
   "execution_count": null,
   "metadata": {},
   "outputs": [],
   "source": [
    "# Generate normally distributed data\n",
    "np.random.seed(353926)\n",
    "df_norm = pd.DataFrame(data={'x': np.random.normal(size=500)})\n",
    "\n",
    "# Plot the histogram\n",
    "p = bokeh_catplot.histogram(\n",
    "    data=df_norm,\n",
    "    cats=None,\n",
    "    val='x'\n",
    ")\n",
    "\n",
    "bokeh.io.show(p)"
   ]
  },
  {
   "cell_type": "markdown",
   "metadata": {},
   "source": [
    "This looks similar to the standard Normal curve we are used to seeing and is a useful comparison to a **probability density function** (PDF). However, Histograms suffer from **binning bias**. By binning the data, you are not plotting all of them. In general, if you can **plot all of your data**, you should. For that reason, I prefer not to use histograms for studying how data are distributed, but rather prefer to use ECDFs, which enable plotting of all data.\n",
    "\n",
    "The ECDF evaluated at x for a set of measurements is defined as\n",
    "\n",
    "\\begin{align}\n",
    "\\text{ECDF}(x) = \\text{fraction of measurements } \\le x.\n",
    "\\end{align}\n",
    "\n",
    "While the histogram is an attempt to visualize a probability density function (PDF) of a distribution, the ECDF visualizes the **cumulative density function** (CDF). The CDF, $F(x)$, and PDF, $f(x)$, both completely define a univariate distribution and are related by\n",
    "\n",
    "\\begin{align}\n",
    "f(x) = \\frac{\\mathrm{d}F}{\\mathrm{d}x}.\n",
    "\\end{align}\n",
    "\n",
    "The definition of the ECDF is all that you need for interpretation. Once you get used to looking at CDFs, they will become as familiar as PDFs. A peak in a PDF corresponds to an inflection point in a CDF.\n",
    "\n",
    "To make this more clear, let us look at plot of a PDF and ECDF for familiar distributions, the Gaussian and Binomial.\n",
    "\n",
    "<center><img src=\"Dataset/pdf_cdf.png\" width=\"600px\"></center><br/>\n",
    "\n",
    "Now that we know how to interpret ECDFs, lets plot the ECDF for our dummy Normally-distributed data."
   ]
  },
  {
   "cell_type": "code",
   "execution_count": null,
   "metadata": {},
   "outputs": [],
   "source": [
    "p = bokeh_catplot.ecdf(\n",
    "    data=df_norm,\n",
    "    cats=None,\n",
    "    val='x'\n",
    ")\n",
    "\n",
    "bokeh.io.show(p)"
   ]
  },
  {
   "cell_type": "markdown",
   "metadata": {},
   "source": [
    "Now that we understand what an ECDF is and how to plot it, let's make a set of ECDFs for our frog data."
   ]
  },
  {
   "cell_type": "code",
   "execution_count": null,
   "metadata": {},
   "outputs": [],
   "source": [
    "p = bokeh_catplot.ecdf(\n",
    "    data=df,\n",
    "    cats='ID',\n",
    "    val='impact force (mN)'\n",
    ")\n",
    "\n",
    "bokeh.io.show(p)"
   ]
  },
  {
   "cell_type": "markdown",
   "metadata": {},
   "source": [
    "Each dot in the ECDF is a single data point that we measured. Given the above definition of the ECDF, it is defined for all real $x$. So, formally, the ECDF is a continuous function (with discontinuous derivatives at each data point). So, it should be plotted like a staircase according to the formal definition. We can plot it that way using the `formal` keyword argument."
   ]
  },
  {
   "cell_type": "code",
   "execution_count": null,
   "metadata": {},
   "outputs": [],
   "source": [
    "p = bokeh_catplot.ecdf(\n",
    "    data=df,\n",
    "    cats='ID',\n",
    "    val='impact force (mN)',\n",
    "    formal=True\n",
    ")\n",
    "\n",
    "bokeh.io.show(p)"
   ]
  },
  {
   "cell_type": "markdown",
   "metadata": {},
   "source": [
    "This is still plotting all of your data. The concave corners of the staircase correspond to the measured data. This can be seen by overlaying the \"dot\" version of the ECDFs."
   ]
  },
  {
   "cell_type": "code",
   "execution_count": null,
   "metadata": {},
   "outputs": [],
   "source": [
    "p = bokeh_catplot.ecdf(\n",
    "    data=df,\n",
    "    cats='ID',\n",
    "    val='impact force (mN)',\n",
    "    p=p\n",
    ")\n",
    "\n",
    "bokeh.io.show(p)"
   ]
  },
  {
   "cell_type": "markdown",
   "metadata": {},
   "source": [
    "## Customization with Bokeh-catplot\n",
    "\n",
    "You may have noticed in the discussion of ECDFs that I introduced some new keyword arguments, `formal` and `p`. In fact, each of the four plotting functions also has the following additional optional keyword arguments.\n",
    "\n",
    "- `palette`: A list of hex colors to use for coloring the markers for each category. By default, it uses the default color scheme of [Vega-Lite](https://vega.github.io/vega-lite/).\n",
    "- `order`: If specified, the ordering of the categories to use on the categorical axis and legend (if applicable). Otherwise, the order of the inputted data frame is used.\n",
    "- `p`: If specified, the `bokeh.plotting.Figure` object to use for the plot. If not specified, a new figure is created.\n",
    "\n",
    "The respective plotting functions also have kwargs that are specific to each (such as `formal` for `bokeh_catplot.ecdf()`. Examples highlighting some, but not all, customizations follow. You can find out what kwargs are available for each function by reading their doc strings, e.g., with\n",
    "\n",
    "```python\n",
    "bokeh_catplot.box?\n",
    "```\n",
    "\n",
    "Any kwargs not in the function call signature are passed to `bokeh.plotting.figure()` when the figure is instantiated."
   ]
  },
  {
   "cell_type": "markdown",
   "metadata": {},
   "source": [
    "#### Customizing box plots\n",
    "\n",
    "We can also have horizontal box plots."
   ]
  },
  {
   "cell_type": "code",
   "execution_count": null,
   "metadata": {},
   "outputs": [],
   "source": [
    "p = bokeh_catplot.box(\n",
    "    data=df,\n",
    "    cats='ID',\n",
    "    val='impact force (mN)',\n",
    "    horizontal=True\n",
    ")\n",
    "\n",
    "bokeh.io.show(p)"
   ]
  },
  {
   "cell_type": "markdown",
   "metadata": {},
   "source": [
    "We can independently specify properties of the marks using `box_kwargs`, `whisker_kwargs`, `median_kwargs`, and `outlier_kwargs`. For example, say we wanted our colors to be [Betancourt red](https://betanalpha.github.io/assets/case_studies/principled_bayesian_workflow.html#step_four:_build_a_generative_model19), and that we wanted the outliers to also be that color and use diamond glyphs."
   ]
  },
  {
   "cell_type": "code",
   "execution_count": null,
   "metadata": {},
   "outputs": [],
   "source": [
    "p = bokeh_catplot.box(\n",
    "    data=df,\n",
    "    cats='ID',\n",
    "    val='impact force (mN)',\n",
    "    whisker_caps=True,\n",
    "    outlier_marker='diamond',\n",
    "    box_kwargs=dict(fill_color='#7C0000'),\n",
    "    whisker_kwargs=dict(line_color='#7C0000', line_width=2),\n",
    ")\n",
    "\n",
    "bokeh.io.show(p)"
   ]
  },
  {
   "cell_type": "markdown",
   "metadata": {},
   "source": [
    "#### Custominzing strip plots\n",
    "\n",
    "To help alleviate the overlap problem, we can make a strip plot with dash markers and add some transparency."
   ]
  },
  {
   "cell_type": "code",
   "execution_count": null,
   "metadata": {},
   "outputs": [],
   "source": [
    "p = bokeh_catplot.strip(\n",
    "    data=df,\n",
    "    cats='ID',\n",
    "    val='impact force (mN)',\n",
    "    marker='dash',\n",
    "    marker_kwargs=dict(alpha=0.5)\n",
    ")\n",
    "\n",
    "bokeh.io.show(p)"
   ]
  },
  {
   "cell_type": "markdown",
   "metadata": {},
   "source": [
    "The problem with strip plots is that they can have trouble with overlapping data points. A common approach to deal with this is to \"jitter,\" or place the glyphs with small random displacements along the categorical axis. I do that here, allowing for hover tools that give more information about the respective data points."
   ]
  },
  {
   "cell_type": "code",
   "execution_count": null,
   "metadata": {},
   "outputs": [],
   "source": [
    "p = bokeh_catplot.strip(\n",
    "    data=df,\n",
    "    cats='ID',\n",
    "    val='impact force (mN)',\n",
    "    jitter=True,\n",
    "    tooltips=[\n",
    "        ('trial', '@{trial number}'),\n",
    "        ('adh force', '@{adhesive force (mN)}')\n",
    "    ]\n",
    ")\n",
    "\n",
    "bokeh.io.show(p)"
   ]
  },
  {
   "cell_type": "markdown",
   "metadata": {},
   "source": [
    "With any of the plots, you can have more than one categorical column, and the categorical axes are nicely spaced and formatted. Here, we'll categorize by frog ID and by trial number."
   ]
  },
  {
   "cell_type": "code",
   "execution_count": null,
   "metadata": {},
   "outputs": [],
   "source": [
    "p = bokeh_catplot.strip(\n",
    "    data=df,\n",
    "    cats=['ID', 'trial number'],\n",
    "    val='impact force (mN)',\n",
    "    color_column='trial number',\n",
    "    width=550\n",
    ")\n",
    "\n",
    "bokeh.io.show(p)"
   ]
  },
  {
   "cell_type": "markdown",
   "metadata": {},
   "source": [
    "#### Strip-box plots\n",
    "\n",
    "Even while plotting all of the data, we sometimes want to graphically display summary statistics, in which case overlaying a box plot and a jitter plot is useful. To populate an existing Bokeh figure with new glyphs from another catplot, pass in the `p` kwarg. You should be careful, though, because you need to make sure the `cats`, `val`, and `horizontal` arguments exactly match."
   ]
  },
  {
   "cell_type": "code",
   "execution_count": null,
   "metadata": {},
   "outputs": [],
   "source": [
    "p = bokeh_catplot.strip(\n",
    "    data=df,\n",
    "    cats='ID',\n",
    "    val='impact force (mN)',\n",
    "    horizontal=True,\n",
    "    jitter=True,\n",
    "    height=250\n",
    ")\n",
    "\n",
    "p = bokeh_catplot.box(\n",
    "    data=df,\n",
    "    cats='ID',\n",
    "    val='impact force (mN)',\n",
    "    horizontal=True,\n",
    "    whisker_caps=True,\n",
    "    display_points=False,\n",
    "    box_kwargs=dict(fill_color=None, line_color='gray'),\n",
    "    median_kwargs=dict(line_color='gray'),\n",
    "    whisker_kwargs=dict(line_color='gray'),\n",
    "    p=p,\n",
    ")\n",
    "\n",
    "bokeh.io.show(p)"
   ]
  },
  {
   "cell_type": "markdown",
   "metadata": {},
   "source": [
    "#### Customizing histograms\n",
    "\n",
    "We could plot normalized histograms using the density kwarg, and we'll make the plot a little wider to support the legend."
   ]
  },
  {
   "cell_type": "code",
   "execution_count": null,
   "metadata": {},
   "outputs": [],
   "source": [
    "# Plot the histogram\n",
    "p = bokeh_catplot.histogram(\n",
    "    data=df_norm,\n",
    "    cats=None,\n",
    "    val='x',\n",
    "    density=True,\n",
    ")\n",
    "\n",
    "bokeh.io.show(p)"
   ]
  },
  {
   "cell_type": "markdown",
   "metadata": {},
   "source": [
    "#### Customizing ECDFs\n",
    "\n",
    "Instead of plotting a separate ECDF for each category, we can put all of the categories together on one ECDF and color the points by the categorical variable by using the `kind='colored'` kwarg. Note that if we do this, we can only have the \"dot\" style ECDF, not the formal staircase."
   ]
  },
  {
   "cell_type": "code",
   "execution_count": null,
   "metadata": {},
   "outputs": [],
   "source": [
    "p = bokeh_catplot.ecdf(\n",
    "    data=df,\n",
    "    cats='ID',\n",
    "    val='impact force (mN)',\n",
    "    kind='colored',\n",
    ")\n",
    "\n",
    "bokeh.io.show(p)"
   ]
  },
  {
   "cell_type": "markdown",
   "metadata": {},
   "source": [
    "## Don't make bar graphs\n",
    "\n",
    "Bar graphs, especially with error bars (in which case they are called dynamite plots), are typically awful. They are pervasive in biology papers. I have yet to find a single example where a bar graph is the best choice. Strip plots (with jitter) or even box plots, are more informative and almost always preferred. In fact, ECDFs are often better even than these. Here is a simple message:\n",
    "\n",
    "<center><font color=\"tomato\"><b>Don't make bar graphs.</b></font></center><br/>\n",
    "\n",
    "What should I do instead you ask? The answer is simple: **plot all of your data** when you can. If you can't, box plots are always better than bar graphs."
   ]
  },
  {
   "cell_type": "markdown",
   "metadata": {},
   "source": [
    "## Computing environment"
   ]
  },
  {
   "cell_type": "code",
   "execution_count": null,
   "metadata": {},
   "outputs": [],
   "source": [
    "%load_ext watermark\n",
    "%watermark -v -p numpy,pandas,bokeh,bokeh_catplot,jupyterlab"
   ]
  },
  {
   "cell_type": "code",
   "execution_count": null,
   "metadata": {},
   "outputs": [],
   "source": []
  }
 ],
 "metadata": {
  "anaconda-cloud": {},
  "kernelspec": {
   "display_name": "Python 3",
   "language": "python",
   "name": "python3"
  },
  "language_info": {
   "codemirror_mode": {
    "name": "ipython",
    "version": 3
   },
   "file_extension": ".py",
   "mimetype": "text/x-python",
   "name": "python",
   "nbconvert_exporter": "python",
   "pygments_lexer": "ipython3",
   "version": "3.6.8"
  }
 },
 "nbformat": 4,
 "nbformat_minor": 4
}
